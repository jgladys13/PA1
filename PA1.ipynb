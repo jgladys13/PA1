{
 "cells": [
  {
   "cell_type": "markdown",
   "id": "3eeddcb2",
   "metadata": {},
   "source": [
    "# Programming Assignment 1\n",
    "**Author:** Joey Gladys\n",
    "**Version:** 1.0\n",
    "**Semester:** Fall 2021"
   ]
  },
  {
   "cell_type": "code",
   "execution_count": 33,
   "id": "6e282b18",
   "metadata": {},
   "outputs": [
    {
     "name": "stdout",
     "output_type": "stream",
     "text": [
      "Enter a floating point number: 44.3\n"
     ]
    }
   ],
   "source": [
    "value1 = float(input(\"Enter a floating point number: \"))\n"
   ]
  },
  {
   "cell_type": "code",
   "execution_count": 35,
   "id": "33297719",
   "metadata": {},
   "outputs": [
    {
     "name": "stdout",
     "output_type": "stream",
     "text": [
      "Enter an integer: 16\n"
     ]
    }
   ],
   "source": [
    "value2 = int(input(\"Enter an integer: \"))\n"
   ]
  },
  {
   "cell_type": "code",
   "execution_count": 36,
   "id": "dc98dab3",
   "metadata": {},
   "outputs": [
    {
     "name": "stdout",
     "output_type": "stream",
     "text": [
      "The sum is  60.3\n"
     ]
    }
   ],
   "source": [
    "sum1 = value1 + value2\n",
    "print(\"The sum is \", sum1)"
   ]
  },
  {
   "cell_type": "code",
   "execution_count": 37,
   "id": "0a5e15b0",
   "metadata": {},
   "outputs": [
    {
     "name": "stdout",
     "output_type": "stream",
     "text": [
      "The difference is  28.299999999999997\n"
     ]
    }
   ],
   "source": [
    "diff = value1 - value2\n",
    "print(\"The difference is \", diff)"
   ]
  },
  {
   "cell_type": "code",
   "execution_count": 38,
   "id": "f2003965",
   "metadata": {},
   "outputs": [
    {
     "name": "stdout",
     "output_type": "stream",
     "text": [
      "The product is  708.8\n"
     ]
    }
   ],
   "source": [
    "product = value1 * value2\n",
    "print(\"The product is \", product)"
   ]
  },
  {
   "cell_type": "code",
   "execution_count": 39,
   "id": "cab779d5",
   "metadata": {},
   "outputs": [
    {
     "name": "stdout",
     "output_type": "stream",
     "text": [
      "The quotient is  2.76875\n"
     ]
    }
   ],
   "source": [
    "quotient = value1 / value2\n",
    "print(\"The quotient is \", quotient)"
   ]
  },
  {
   "cell_type": "code",
   "execution_count": 40,
   "id": "458bd415",
   "metadata": {},
   "outputs": [
    {
     "name": "stdout",
     "output_type": "stream",
     "text": [
      "The type for the result is  <class 'float'>\n"
     ]
    }
   ],
   "source": [
    "print(\"The type for the result is \", type(quotient))"
   ]
  }
 ],
 "metadata": {
  "kernelspec": {
   "display_name": "Python 3",
   "language": "python",
   "name": "python3"
  },
  "language_info": {
   "codemirror_mode": {
    "name": "ipython",
    "version": 3
   },
   "file_extension": ".py",
   "mimetype": "text/x-python",
   "name": "python",
   "nbconvert_exporter": "python",
   "pygments_lexer": "ipython3",
   "version": "3.8.8"
  }
 },
 "nbformat": 4,
 "nbformat_minor": 5
}
